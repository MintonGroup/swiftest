{
 "cells": [
  {
   "cell_type": "code",
   "execution_count": 1,
   "metadata": {},
   "outputs": [],
   "source": [
    "import numpy as np\n",
    "import sys\n",
    "from astroquery.jplhorizons import Horizons\n",
    "import astropy.constants as const \n",
    "import swiftestio as swio"
   ]
  },
  {
   "cell_type": "code",
   "execution_count": 27,
   "metadata": {},
   "outputs": [
    {
     "data": {
      "text/plain": [
       "0.01746575523103058"
      ]
     },
     "execution_count": 27,
     "metadata": {},
     "output_type": "execute_result"
    }
   ],
   "source": [
    "#Values from JPL Horizons\n",
    "AU2M = const.au.value\n",
    "GMSunSI = const.GM_sun.value\n",
    "Rsun = const.R_sun.value\n",
    "GC = const.G.value\n",
    "JD = 86400\n",
    "year = 365.25 * JD\n",
    "c = 299792458.0\n",
    "\n",
    "MU2KG   = GMSunSI / GC #Conversion from mass unit (G * Msun) to kg\n",
    "DU2M   = AU2M      #Conversion from distance unit (AU) to meters\n",
    "TU2S   = year       #Conversion from time unit (Julian Day) to seconds\n",
    "GU     = GC / (DU2M**3 / (MU2KG * TU2S**2))\n",
    "\n",
    "GMSun = GMSunSI / (DU2M**3 / TU2S**2)\n",
    "\n",
    "# Solar oblateness values: From Mecheri et al. (2004), using Corbard (b) 2002 values (Table II)\n",
    "J2 = 2.198e-7 * (Rsun / DU2M)**2\n",
    "J4 = -4.805e-9 * (Rsun / DU2M)**4\n",
    "\n",
    "npl = 10\n",
    "\n",
    "tstart = '2021-01-28'\n",
    "tend = '2021-01-29'\n",
    "tstep = '1d'\n",
    "planetid = {\n",
    "   'mercury'     : '1',\n",
    "   'venus'       : '2',\n",
    "   'earthmoon'   : '3',\n",
    "   'mars'        : '4',\n",
    "   'jupiter'     : '5',\n",
    "   'saturn'      : '6',\n",
    "   'uranus'      : '7',\n",
    "   'neptune'     : '8',\n",
    "   'plutocharon' : '9'\n",
    "}\n",
    "\n",
    "#Planet Msun/M ratio\n",
    "MSun_over_Mpl = {\n",
    "   'mercury'     : 6023600.0,\n",
    "   'venus'       : 408523.71,\n",
    "   'earthmoon'   : 328900.56,\n",
    "   'mars'        : 3098708.,\n",
    "   'jupiter'     : 1047.3486,\n",
    "   'saturn'      : 3497.898,\n",
    "   'uranus'      : 22902.98,\n",
    "   'neptune'     : 19412.24,\n",
    "   'plutocharon' :  1.35e8\n",
    "}\n",
    "\n",
    "#Planet radii in meters\n",
    "Rpl = {\n",
    "   'mercury'     : 2439.4e3,\n",
    "   'venus'       : 6051.8e3,\n",
    "   'earthmoon'   : 6371.0084e3, # Earth only for radius\n",
    "   'mars'        : 3389.50e3,\n",
    "   'jupiter'     : 69911e3,\n",
    "   'saturn'      : 58232.0e3,\n",
    "   'uranus'      : 25362.e3,\n",
    "   'neptune'     : 24622.e3,\n",
    "   'plutocharon' : 1188.3e3\n",
    "}\n",
    "\n",
    "pdata = {}\n",
    "plvec = {}\n",
    "Rhill = {}\n",
    "\n",
    "for key,val in planetid.items():\n",
    "   pdata[key] = Horizons(id=val, id_type='majorbody',location='@sun',\n",
    "            epochs={'start': tstart, 'stop': tend,\n",
    "            'step': tstep})\n",
    "   plvec[key] = np.array([pdata[key].vectors()['x'][0],\n",
    "         pdata[key].vectors()['y'][0], \n",
    "         pdata[key].vectors()['z'][0], \n",
    "         pdata[key].vectors()['vx'][0], \n",
    "         pdata[key].vectors()['vy'][0], \n",
    "         pdata[key].vectors()['vz'][0] \n",
    "         ])\n",
    "   Rhill[key] = pdata[key].elements()['a'][0] * (3 * MSun_over_Mpl[key])**(-1.0 / 3.0)\n",
    "ver = np.sqrt(plvec['earthmoon'][3]**2 + plvec['earthmoon'][4]**2 + plvec['earthmoon'][5]**2)\n",
    "ver"
   ]
  },
  {
   "cell_type": "code",
   "execution_count": 28,
   "metadata": {},
   "outputs": [
    {
     "data": {
      "text/plain": [
       "6.37936709813392"
      ]
     },
     "execution_count": 28,
     "metadata": {},
     "output_type": "execute_result"
    }
   ],
   "source": [
    "\n",
    "for plid in plvec:\n",
    "    plvec[plid][3:] *= year / JD\n",
    "ver = np.sqrt(plvec['earthmoon'][3]**2 + plvec['earthmoon'][4]**2 + plvec['earthmoon'][5]**2)\n",
    "ver"
   ]
  },
  {
   "cell_type": "code",
   "execution_count": null,
   "metadata": {},
   "outputs": [],
   "source": []
  }
 ],
 "metadata": {
  "kernelspec": {
   "display_name": "Python 3",
   "language": "python",
   "name": "python3"
  },
  "language_info": {
   "codemirror_mode": {
    "name": "ipython",
    "version": 3
   },
   "file_extension": ".py",
   "mimetype": "text/x-python",
   "name": "python",
   "nbconvert_exporter": "python",
   "pygments_lexer": "ipython3",
   "version": "3.8.6"
  }
 },
 "nbformat": 4,
 "nbformat_minor": 4
}
