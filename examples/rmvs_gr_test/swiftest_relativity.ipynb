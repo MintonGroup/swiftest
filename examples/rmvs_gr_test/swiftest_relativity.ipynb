{
 "cells": [
  {
   "cell_type": "code",
   "execution_count": 1,
   "metadata": {},
   "outputs": [],
   "source": [
    "import numpy as np\n",
    "import matplotlib.pyplot as plt\n",
    "import pandas as pd\n",
    "import swiftestio as swio\n",
    "from astroquery.jplhorizons import Horizons"
   ]
  },
  {
   "cell_type": "code",
   "execution_count": 2,
   "metadata": {},
   "outputs": [
    {
     "name": "stdout",
     "output_type": "stream",
     "text": [
      "Reading Swifter file param.gr.in\n"
     ]
    }
   ],
   "source": [
    "inparfile = 'param.gr.in'\n",
    "paramgr = swio.read_swifter_param(inparfile)\n",
    "swiftergr = swio.swifter2xr(paramgr)"
   ]
  },
  {
   "cell_type": "code",
   "execution_count": 3,
   "metadata": {},
   "outputs": [
    {
     "name": "stdout",
     "output_type": "stream",
     "text": [
      "Reading Swifter file param.nogr.in\n"
     ]
    }
   ],
   "source": [
    "inparfile = 'param.nogr.in'\n",
    "paramnogr = swio.read_swifter_param(inparfile)\n",
    "swifternogr = swio.swifter2xr(paramnogr)"
   ]
  },
  {
   "cell_type": "code",
   "execution_count": 4,
   "metadata": {},
   "outputs": [
    {
     "name": "stdout",
     "output_type": "stream",
     "text": [
      "Reading Swiftest file config.gr.in\n"
     ]
    }
   ],
   "source": [
    "config_file_name = 'config.gr.in'\n",
    "config = swio.read_swiftest_config(config_file_name)\n",
    "swiftestdat = swio.swiftest2xr(config)"
   ]
  },
  {
   "cell_type": "code",
   "execution_count": 5,
   "metadata": {},
   "outputs": [],
   "source": [
    "tsim = swiftergr['time'] / 365.25\n",
    "varpigrsim = (swiftergr.sel(id=2)['omega'].data + swiftergr.sel(id=2)['capom'].data) * 180.0 / np.pi\n",
    "varpinogrsim = (swifternogr.sel(id=2)['omega'].data + swifternogr.sel(id=2)['capom'].data) * 180.0 / np.pi\n",
    "varpiswiftest = (swiftestdat.sel(id=2)['omega'].data + swiftestdat.sel(id=2)['capom'].data) * 180.0 / np.pi"
   ]
  },
  {
   "cell_type": "code",
   "execution_count": 6,
   "metadata": {},
   "outputs": [],
   "source": [
    "obj = Horizons(id='1', id_type='majorbody',location='@sun',\n",
    "               epochs={'start':'2020-07-13', 'stop':'3024-07-13',\n",
    "                       'step':'1461d'})\n",
    "el = obj.elements()\n",
    "t = (el['datetime_jd']-el['datetime_jd'][0]) / 365.25\n",
    "varpi = el['w'] + el['Omega']"
   ]
  },
  {
   "cell_type": "code",
   "execution_count": 7,
   "metadata": {},
   "outputs": [],
   "source": [
    "dvarpigrsim = np.diff(varpigrsim) / np.diff(tsim) * 3600 * 100 \n",
    "dvarpinogrsim = np.diff(varpinogrsim) / np.diff(tsim) * 3600 * 100 \n",
    "dvarpiswiftest = np.diff(varpiswiftest) / np.diff(tsim) * 3600 * 100 \n",
    "dvarpi= np.diff(varpi) / np.diff(t) * 3600 * 100 "
   ]
  },
  {
   "cell_type": "code",
   "execution_count": 13,
   "metadata": {},
   "outputs": [
    {
     "name": "stdout",
     "output_type": "stream",
     "text": [
      "Mean precession rate for Mercury long. peri. (arcsec/100 y)\n",
      "JPL Horizons  : 570.3933741520308\n",
      "Swifter no GR : 527.4373381337329\n",
      "Swifter GR    : 570.37497883185\n",
      "Swiftest GR   : 570.3749787753405\n",
      "GR - no GR    : 42.93764069811709\n",
      "Obs - Swifter : -0.018395320180843555\n",
      "Obs - Swiftest: -0.018395376690250487\n"
     ]
    },
    {
     "data": {
      "image/png": "[encoded data removed]",
      "text/plain": [
       "<Figure size 432x288 with 1 Axes>"
      ]
     },
     "metadata": {
      "needs_background": "light"
     },
     "output_type": "display_data"
    }
   ],
   "source": [
    "fig, ax = plt.subplots()\n",
    "\n",
    "ax.plot(t, varpi, label=\"JPL Horizons\")\n",
    "ax.plot(tsim, varpinogrsim, label=\"Swifter no GR\")\n",
    "ax.plot(tsim, varpigrsim, label=\"Swifter GR\")\n",
    "ax.plot(tsim, varpiswiftest, label=\"Swiftest GR\")\n",
    "ax.set_xlabel('Time (y)')\n",
    "ax.set_ylabel('Mercury $\\\\varpi$ (deg)')\n",
    "ax.legend()\n",
    "print('Mean precession rate for Mercury long. peri. (arcsec/100 y)')\n",
    "print(f'JPL Horizons  : {np.mean(dvarpi)}')\n",
    "print(f'Swifter no GR : {np.mean(dvarpinogrsim)}')\n",
    "print(f'Swifter GR    : {np.mean(dvarpigrsim)}')\n",
    "print(f'Swiftest GR   : {np.mean(dvarpiswiftest)}')\n",
    "print(f'GR - no GR    : {np.mean(dvarpigrsim) - np.mean(dvarpinogrsim)}')\n",
    "print(f'Obs - Swifter : {np.mean(dvarpigrsim) - np.mean(dvarpi)}')\n",
    "print(f'Obs - Swiftest: {np.mean(dvarpiswiftest) - np.mean(dvarpi)}')"
   ]
  },
  {
   "cell_type": "code",
   "execution_count": null,
   "metadata": {},
   "outputs": [],
   "source": []
  },
  {
   "cell_type": "code",
   "execution_count": null,
   "metadata": {},
   "outputs": [],
   "source": []
  }
 ],
 "metadata": {
  "kernelspec": {
   "display_name": "Python 3",
   "language": "python",
   "name": "python3"
  },
  "language_info": {
   "codemirror_mode": {
    "name": "ipython",
    "version": 3
   },
   "file_extension": ".py",
   "mimetype": "text/x-python",
   "name": "python",
   "nbconvert_exporter": "python",
   "pygments_lexer": "ipython3",
   "version": "3.8.6"
  }
 },
 "nbformat": 4,
 "nbformat_minor": 4
}
