{
 "cells": [
  {
   "cell_type": "code",
   "execution_count": 1,
   "metadata": {},
   "outputs": [],
   "source": [
    "import numpy as np\n",
    "import matplotlib.pyplot as plt\n",
    "import swiftest\n",
    "from astroquery.jplhorizons import Horizons"
   ]
  },
  {
   "cell_type": "code",
   "execution_count": 2,
   "metadata": {},
   "outputs": [
    {
     "name": "stdout",
     "output_type": "stream",
     "text": [
      "Reading Swifter file param.swifter.in\n",
      "Reading in time 1.000e+03\n",
      "Creating Dataset\n",
      "Successfully converted 1001 output frames.\n",
      "Swifter simulation data stored as xarray DataSet .ds\n"
     ]
    }
   ],
   "source": [
    "swiftersim = swiftest.Simulation(param_file=\"param.swifter.in\", codename=\"Swifter\")\n",
    "swiftersim.bin2xr()\n",
    "swifterdat = swiftersim.ds"
   ]
  },
  {
   "cell_type": "code",
   "execution_count": 3,
   "metadata": {},
   "outputs": [
    {
     "name": "stdout",
     "output_type": "stream",
     "text": [
      "Reading Swiftest file param.swiftest.in\n",
      "Reading in time 1.000e+03\n",
      "Creating Dataset\n",
      "Successfully converted 1001 output frames.\n",
      "Swiftest simulation data stored as xarray DataSet .ds\n"
     ]
    }
   ],
   "source": [
    "swiftestsim = swiftest.Simulation(param_file=\"param.swiftest.in\")\n",
    "swiftestsim.bin2xr()\n",
    "swiftestdat = swiftestsim.ds"
   ]
  },
  {
   "cell_type": "code",
   "execution_count": 4,
   "metadata": {},
   "outputs": [],
   "source": [
    "swifterdat['varpi'] = swifterdat['omega'] + swifterdat['capom']\n",
    "swiftestdat['varpi'] = swiftestdat['omega'] + swiftestdat['capom']"
   ]
  },
  {
   "cell_type": "code",
   "execution_count": 5,
   "metadata": {},
   "outputs": [],
   "source": [
    "obj = Horizons(id='1', id_type='majorbody',location='@sun',\n",
    "               epochs={'start':'2021-01-28', 'stop':'3021-02-05',\n",
    "                       'step':'1y'})\n",
    "el = obj.elements()\n",
    "t = (el['datetime_jd']-el['datetime_jd'][0]) / 365.25\n",
    "varpi_obs = el['w'] + el['Omega']"
   ]
  },
  {
   "cell_type": "code",
   "execution_count": 6,
   "metadata": {},
   "outputs": [],
   "source": [
    "varpiswiftest = swiftestdat['varpi'].sel(id=1) * 180.0 / np.pi\n",
    "varpiswifter = swifterdat['varpi'].sel(id=1) * 180.0 / np.pi\n",
    "tsim = swiftestdat['time']"
   ]
  },
  {
   "cell_type": "code",
   "execution_count": 7,
   "metadata": {},
   "outputs": [],
   "source": [
    "dvarpi_swiftest = np.diff(varpiswiftest)  * 3600 * 100 \n",
    "dvarpi_swifter = np.diff(varpiswifter)  * 3600 * 100 \n",
    "dvarpi_obs = np.diff(varpi_obs) / np.diff(t) * 3600 * 100 "
   ]
  },
  {
   "cell_type": "code",
   "execution_count": 8,
   "metadata": {},
   "outputs": [
    {
     "name": "stdout",
     "output_type": "stream",
     "text": [
      "Mean precession rate for Mercury long. peri. (arcsec/100 y)\n",
      "JPL Horizons      : 571.3210506300043\n",
      "Swifter GR        : 571.6183105524942\n",
      "Swiftest GR       : 571.5701928436062\n",
      "Obs - Swifter     : -0.2972599224899675\n",
      "Obs - Swiftest    : -0.2491422136018948\n",
      "Swiftest - Swifter: -0.04811770888807132\n"
     ]
    },
    {
     "data": {
      "image/png": "[encoded data removed]",
      "text/plain": [
       "<Figure size 432x288 with 1 Axes>"
      ]
     },
     "metadata": {
      "needs_background": "light"
     },
     "output_type": "display_data"
    }
   ],
   "source": [
    "fig, ax = plt.subplots()\n",
    "\n",
    "ax.plot(t, varpi_obs, label=\"JPL Horizons\")\n",
    "ax.plot(tsim, varpiswifter, label=\"Swifter GR\")\n",
    "ax.plot(tsim, varpiswiftest, label=\"Swiftest GR\")\n",
    "ax.set_xlabel('Time (y)')\n",
    "ax.set_ylabel('Mercury $\\\\varpi$ (deg)')\n",
    "ax.legend()\n",
    "print('Mean precession rate for Mercury long. peri. (arcsec/100 y)')\n",
    "print(f'JPL Horizons      : {np.mean(dvarpi_obs)}')\n",
    "print(f'Swifter GR        : {np.mean(dvarpi_swifter)}')\n",
    "print(f'Swiftest GR       : {np.mean(dvarpi_swiftest)}')\n",
    "print(f'Obs - Swifter     : {np.mean(dvarpi_obs - dvarpi_swifter)}')\n",
    "print(f'Obs - Swiftest    : {np.mean(dvarpi_obs - dvarpi_swiftest)}')\n",
    "print(f'Swiftest - Swifter: {np.mean(dvarpi_swiftest - dvarpi_swifter)}')"
   ]
  },
  {
   "cell_type": "code",
   "execution_count": null,
   "metadata": {},
   "outputs": [],
   "source": []
  },
  {
   "cell_type": "code",
   "execution_count": null,
   "metadata": {},
   "outputs": [],
   "source": []
  }
 ],
 "metadata": {
  "kernelspec": {
   "display_name": "swiftestOOF",
   "language": "python",
   "name": "swiftestoof"
  },
  "language_info": {
   "codemirror_mode": {
    "name": "ipython",
    "version": 3
   },
   "file_extension": ".py",
   "mimetype": "text/x-python",
   "name": "python",
   "nbconvert_exporter": "python",
   "pygments_lexer": "ipython3",
   "version": "3.7.10"
  }
 },
 "nbformat": 4,
 "nbformat_minor": 4
}
