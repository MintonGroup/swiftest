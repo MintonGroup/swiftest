{
 "cells": [
  {
   "cell_type": "code",
   "execution_count": null,
   "id": "86c845ce-1801-46ca-8a8a-1cabb266e6a6",
   "metadata": {},
   "outputs": [],
   "source": [
    "import swiftest\n",
    "import xarray as xr\n",
    "import numpy as np\n",
    "import os\n",
    "%env OMP_NUM_THREADS=8"
   ]
  },
  {
   "cell_type": "code",
   "execution_count": null,
   "id": "d716c371-8eb4-4fc1-82af-8b5c444c831e",
   "metadata": {},
   "outputs": [],
   "source": [
    "sim = swiftest.Simulation()"
   ]
  },
  {
   "cell_type": "code",
   "execution_count": null,
   "id": "ec7452d6-4c9b-4df3-acc0-b11c32264b91",
   "metadata": {},
   "outputs": [],
   "source": [
    "sim.run(tstop=10.0)"
   ]
  },
  {
   "cell_type": "code",
   "execution_count": null,
   "id": "6f46b22e-dbd0-4562-a4cf-ea55247a2126",
   "metadata": {},
   "outputs": [],
   "source": []
  }
 ],
 "metadata": {
  "kernelspec": {
   "display_name": "swiftest",
   "language": "python",
   "name": "swiftest"
  },
  "language_info": {
   "codemirror_mode": {
    "name": "ipython",
    "version": 3
   },
   "file_extension": ".py",
   "mimetype": "text/x-python",
   "name": "python",
   "nbconvert_exporter": "python",
   "pygments_lexer": "ipython3",
   "version": "3.8.5"
  }
 },
 "nbformat": 4,
 "nbformat_minor": 5
}
