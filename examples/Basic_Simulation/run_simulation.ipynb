{
 "cells": [
  {
   "cell_type": "code",
   "execution_count": 1,
   "id": "86c845ce-1801-46ca-8a8a-1cabb266e6a6",
   "metadata": {},
   "outputs": [
    {
     "name": "stdout",
     "output_type": "stream",
     "text": [
      "env: OMP_NUM_THREADS=8\n"
     ]
    }
   ],
   "source": [
    "import swiftest\n",
    "import xarray as xr\n",
    "import numpy as np\n",
    "import os\n",
    "%env OMP_NUM_THREADS=8"
   ]
  },
  {
   "cell_type": "code",
   "execution_count": 2,
   "id": "d716c371-8eb4-4fc1-82af-8b5c444c831e",
   "metadata": {},
   "outputs": [
    {
     "name": "stdout",
     "output_type": "stream",
     "text": [
      "Reading Swiftest file /home/daminton/git_debug/swiftest/examples/Basic_Simulation/simdata/param.in\n"
     ]
    }
   ],
   "source": [
    "sim = swiftest.Simulation()"
   ]
  },
  {
   "cell_type": "code",
   "execution_count": null,
   "id": "ec7452d6-4c9b-4df3-acc0-b11c32264b91",
   "metadata": {},
   "outputs": [
    {
     "name": "stdout",
     "output_type": "stream",
     "text": [
      "Writing parameter inputs to file /home/daminton/git_debug/swiftest/examples/Basic_Simulation/simdata/param.in\n",
      "Running a Swiftest symba run from tstart=0.0 y to tstop=1000.0 y\n",
      "\u001b]2;cd /home/daminton/git_debug/swiftest/examples/Basic_Simulation/simdata\u0007\u001b]1;\u0007\u001b]2;/home/daminton/git_debug/swiftest/bin/swiftest_driver symba \u0007\u001b]1;\u0007 Parameter input file is /home/daminton/git_debug/swiftest/examples/Basic_Simulation/simdata/param.in\n",
      "\n",
      "  \n",
      "\n",
      " OpenMP parameters:\n",
      "\n",
      " ------------------\n",
      "\n",
      " Number of threads  =   8\n",
      "\n",
      "\n",
      "\n",
      "\n",
      "\n",
      "[===/                                                                            ] Time =  3.00000E+01 of  1.00000E+03\r"
     ]
    }
   ],
   "source": [
    "sim.run()"
   ]
  },
  {
   "cell_type": "code",
   "execution_count": null,
   "id": "6f46b22e-dbd0-4562-a4cf-ea55247a2126",
   "metadata": {},
   "outputs": [],
   "source": []
  }
 ],
 "metadata": {
  "kernelspec": {
   "display_name": "swiftest",
   "language": "python",
   "name": "swiftest"
  },
  "language_info": {
   "codemirror_mode": {
    "name": "ipython",
    "version": 3
   },
   "file_extension": ".py",
   "mimetype": "text/x-python",
   "name": "python",
   "nbconvert_exporter": "python",
   "pygments_lexer": "ipython3",
   "version": "3.8.5"
  }
 },
 "nbformat": 4,
 "nbformat_minor": 5
}
