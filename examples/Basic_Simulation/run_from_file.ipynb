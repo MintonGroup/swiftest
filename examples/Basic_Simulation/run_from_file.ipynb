{
 "cells": [
  {
   "cell_type": "code",
   "execution_count": 1,
   "id": "aa57e957-f141-4373-9a62-a91845203aa3",
   "metadata": {},
   "outputs": [
    {
     "name": "stdout",
     "output_type": "stream",
     "text": [
      "env: OMP_NUM_THREADS=8\n"
     ]
    }
   ],
   "source": [
    "import swiftest\n",
    "import xarray as xr\n",
    "import numpy as np\n",
    "import os\n",
    "%env OMP_NUM_THREADS=8"
   ]
  },
  {
   "cell_type": "code",
   "execution_count": 2,
   "id": "a9c020aa-0a87-4fa9-9b11-62213edb370c",
   "metadata": {},
   "outputs": [
    {
     "name": "stdout",
     "output_type": "stream",
     "text": [
      "Reading Swiftest file /home/daminton/git_debug/swiftest/examples/Basic_Simulation/simdata/param.in\n",
      "\n",
      "Creating Dataset from NetCDF file\n",
      "Successfully converted 1 output frames.\n"
     ]
    }
   ],
   "source": [
    "sim = swiftest.Simulation(read_param=True)"
   ]
  },
  {
   "cell_type": "code",
   "execution_count": 3,
   "id": "209523b6-d7a8-46f0-8687-54f199015c2d",
   "metadata": {},
   "outputs": [
    {
     "name": "stdout",
     "output_type": "stream",
     "text": [
      "Writing parameter inputs to file /home/daminton/git_debug/swiftest/examples/Basic_Simulation/simdata/param.in\n",
      "Running a Swiftest symba run from tstart=0.0 y to tstop=1000.0 y\n"
     ]
    },
    {
     "data": {
      "application/vnd.jupyter.widget-view+json": {
       "model_id": "ca7e9529651b46209bc86174955f7a01",
       "version_major": 2,
       "version_minor": 0
      },
      "text/plain": [
       "Time:   0.0 / 1000.0 y :   0%|          , npl: 14 ntp: 10 nplm: 13"
      ]
     },
     "metadata": {},
     "output_type": "display_data"
    },
    {
     "name": "stderr",
     "output_type": "stream",
     "text": [
      "/home/daminton/git_debug/swiftest/python/swiftest/swiftest/simulation_class.py:465: UserWarning: Error executing main swiftest_driver program\n",
      "  self._run_swiftest_driver()\n"
     ]
    },
    {
     "name": "stdout",
     "output_type": "stream",
     "text": [
      "\n",
      "Creating Dataset from NetCDF file\n",
      "Successfully converted 19 output frames.\n",
      "Swiftest simulation data stored as xarray DataSet .data\n"
     ]
    }
   ],
   "source": [
    "sim.run()"
   ]
  }
 ],
 "metadata": {
  "kernelspec": {
   "display_name": "Python (My debug_env Kernel)",
   "language": "python",
   "name": "debug_env"
  },
  "language_info": {
   "codemirror_mode": {
    "name": "ipython",
    "version": 3
   },
   "file_extension": ".py",
   "mimetype": "text/x-python",
   "name": "python",
   "nbconvert_exporter": "python",
   "pygments_lexer": "ipython3",
   "version": "3.8.5"
  }
 },
 "nbformat": 4,
 "nbformat_minor": 5
}
