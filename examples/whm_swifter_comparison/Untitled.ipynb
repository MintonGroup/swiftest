{
 "cells": [
  {
   "cell_type": "code",
   "execution_count": 3,
   "metadata": {},
   "outputs": [],
   "source": [
    "import numpy as np\n",
    "import astropy.constants as const"
   ]
  },
  {
   "cell_type": "code",
   "execution_count": 31,
   "metadata": {},
   "outputs": [
    {
     "name": "stdout",
     "output_type": "stream",
     "text": [
      "6.6743e-11\n"
     ]
    }
   ],
   "source": [
    "AU2M = np.longdouble(const.au.value)\n",
    "GMSunSI = np.longdouble(const.GM_sun.value)\n",
    "print(const.G.value)\n",
    "Rsun = np.longdouble(const.R_sun.value)\n",
    "GC = np.longdouble(const.G.value)\n",
    "JD = 86400\n",
    "year = np.longdouble(365.25 * JD)\n",
    "c = np.longdouble(299792458.0)\n",
    "MSun_over_Mpl = np.array([6023600.0,\n",
    "                 408523.71,\n",
    "                 328900.56,\n",
    "                 3098708.,\n",
    "                 1047.3486,\n",
    "                 3497.898,\n",
    "                 22902.98,\n",
    "                 19412.24,\n",
    "                 1.35e8], dtype=np.longdouble)\n",
    "\n",
    "MU2KG    = np.longdouble(GMSunSI / GC) #Conversion from mass unit to kg\n",
    "DU2M     = np.longdouble(AU2M)         #Conversion from radius unit to centimeters\n",
    "TU2S     = np.longdouble(year)         #Conversion from time unit to seconds\n",
    "GU       = np.longdouble(GC / (DU2M**3 / (MU2KG * TU2S**2)))\n",
    "\n",
    "GMSun = np.longdouble(GMSunSI / (DU2M**3 / TU2S**2))"
   ]
  },
  {
   "cell_type": "code",
   "execution_count": 34,
   "metadata": {},
   "outputs": [
    {
     "data": {
      "text/plain": [
       "int"
      ]
     },
     "execution_count": 34,
     "metadata": {},
     "output_type": "execute_result"
    }
   ],
   "source": [
    "type(JD)"
   ]
  },
  {
   "cell_type": "code",
   "execution_count": 39,
   "metadata": {},
   "outputs": [
    {
     "data": {
      "text/plain": [
       "array([6.0236000000000000000e+06, 4.0852371000000002095e+05,\n",
       "       3.2890055999999999767e+05, 3.0987080000000000000e+06,\n",
       "       1.0473486000000000331e+03, 3.4978980000000001382e+03,\n",
       "       2.2902979999999999563e+04, 1.9412240000000001601e+04,\n",
       "       1.3500000000000000000e+08], dtype=float128)"
      ]
     },
     "execution_count": 39,
     "metadata": {},
     "output_type": "execute_result"
    }
   ],
   "source": [
    "MSun_over_Mpl"
   ]
  },
  {
   "cell_type": "code",
   "execution_count": 54,
   "metadata": {},
   "outputs": [],
   "source": [
    "np.set_printoptions(threshold = np.inf, precision=23)"
   ]
  },
  {
   "cell_type": "code",
   "execution_count": 59,
   "metadata": {},
   "outputs": [
    {
     "name": "stdout",
     "output_type": "stream",
     "text": [
      "39.476926408897626292\n"
     ]
    }
   ],
   "source": [
    "print(GU)"
   ]
  },
  {
   "cell_type": "code",
   "execution_count": 60,
   "metadata": {},
   "outputs": [
    {
     "name": "stdout",
     "output_type": "stream",
     "text": [
      "39.47692640889762571987376\n"
     ]
    }
   ],
   "source": [
    "print(\"{:.23f}\".format(GU))"
   ]
  },
  {
   "cell_type": "code",
   "execution_count": null,
   "metadata": {},
   "outputs": [],
   "source": []
  }
 ],
 "metadata": {
  "kernelspec": {
   "display_name": "Python 3",
   "language": "python",
   "name": "python3"
  },
  "language_info": {
   "codemirror_mode": {
    "name": "ipython",
    "version": 3
   },
   "file_extension": ".py",
   "mimetype": "text/x-python",
   "name": "python",
   "nbconvert_exporter": "python",
   "pygments_lexer": "ipython3",
   "version": "3.8.6"
  }
 },
 "nbformat": 4,
 "nbformat_minor": 4
}
